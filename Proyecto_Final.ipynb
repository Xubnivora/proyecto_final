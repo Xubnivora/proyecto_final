{
 "cells": [
  {
   "cell_type": "code",
   "execution_count": 1,
   "id": "d513dff0",
   "metadata": {},
   "outputs": [],
   "source": [
    "import numpy as npy\n",
    "import matplotlib.pyplot as plt\n",
    "\n",
    "\n",
    "size_gen = 100\n",
    "data_a = []\n",
    "data_b = []\n",
    "data_y = []\n",
    "error = []\n",
    "gradiente_m = []\n",
    "gradiente_b = []\n",
    "\n",
    "m=2\n",
    "b=1\n",
    "error_promedio=0\n",
    "gb_prom=0\n",
    "gm_prom=0"
   ]
  },
  {
   "cell_type": "code",
   "execution_count": 2,
   "id": "0bd94393",
   "metadata": {},
   "outputs": [],
   "source": [
    "def generar_listado_a():\n",
    "    return list(npy.random.randint(low = 25,high=500,size=size_gen))\n",
    "\n",
    "def generar_listado_b():\n",
    "    return list(npy.random.poisson(52, size_gen))\n",
    "\n",
    "\n",
    "\n",
    "def generar_listado_y_hat(data_a):\n",
    "    for n in data_a:     \n",
    "        data_y.append(n*m+b)              \n",
    "    return data_y\n",
    "     \n",
    "def generar_listado_error(data_b,data_y):\n",
    "    for n in range(size_gen):         \n",
    "        error.append(((data_y[n]-data_b[n])**2)/2)            \n",
    "    return error\n",
    "\n",
    "\n",
    "def generar_listado_gradiente_m(data_a,data_b,data_y):\n",
    "    for n in range(size_gen):         \n",
    "        gradiente_m.append((data_y[n]-data_b[n])*data_a[n])            \n",
    "    return gradiente_m\n",
    "\n",
    "def generar_listado_gradiente_b(data_b,data_y):\n",
    "    for n in range(size_gen):         \n",
    "        gradiente_b.append((data_y[n]-data_b[n]))            \n",
    "    return gradiente_b    "
   ]
  },
  {
   "cell_type": "code",
   "execution_count": 3,
   "id": "02378685",
   "metadata": {},
   "outputs": [
    {
     "name": "stdout",
     "output_type": "stream",
     "text": [
      "478.61\n",
      "165887.96\n",
      "[478.61, 166366.56999999998, 332254.52999999997, 498142.49, 664030.45, 829918.4099999999, 995806.37, 1161694.33, 1327582.29, 1493470.25]\n"
     ]
    },
    {
     "data": {
      "image/png": "[encoded data removed]",
      "text/plain": [
       "<Figure size 432x288 with 1 Axes>"
      ]
     },
     "metadata": {
      "needs_background": "light"
     },
     "output_type": "display_data"
    }
   ],
   "source": [
    "def listado():\n",
    "  function=[]  \n",
    "  \n",
    "  \n",
    "  npy.save('A', npy.array(generar_listado_a()))\n",
    "  npy.save('B', npy.array(generar_listado_b()))\n",
    "  \n",
    "  data_a=npy.load('A.npy')\n",
    "  data_b=npy.load('B.npy')\n",
    "  \n",
    "  data_y=generar_listado_y_hat(data_a)\n",
    "  generar_listado_error(data_b,data_y) \n",
    "  error_promedio = npy.mean(error)\n",
    "  \n",
    "  gradiente_m = generar_listado_gradiente_m(data_a,data_b,data_y)\n",
    "  gradiente_b = generar_listado_gradiente_b(data_b,data_y)\n",
    "  \n",
    "  \n",
    "  gb_prom=npy.mean(gradiente_b)\n",
    "  gm_prom=npy.mean(gradiente_m)\n",
    "  print(gb_prom)\n",
    "  print(gm_prom)\n",
    "  for x in range(10): \n",
    "      x*gm_prom+gb_prom\n",
    "      function.append(x*gm_prom+gb_prom)\n",
    "      \n",
    "  plt.plot(function)    \n",
    "  return function\n",
    "\n",
    "\n",
    "\n",
    "  \n",
    "print(listado())"
   ]
  },
  {
   "cell_type": "code",
   "execution_count": null,
   "id": "b949d312",
   "metadata": {},
   "outputs": [],
   "source": []
  }
 ],
 "metadata": {
  "kernelspec": {
   "display_name": "Python 3 (ipykernel)",
   "language": "python",
   "name": "python3"
  },
  "language_info": {
   "codemirror_mode": {
    "name": "ipython",
    "version": 3
   },
   "file_extension": ".py",
   "mimetype": "text/x-python",
   "name": "python",
   "nbconvert_exporter": "python",
   "pygments_lexer": "ipython3",
   "version": "3.9.7"
  }
 },
 "nbformat": 4,
 "nbformat_minor": 5
}
