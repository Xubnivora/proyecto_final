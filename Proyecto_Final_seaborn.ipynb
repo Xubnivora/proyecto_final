{
 "cells": [
  {
   "cell_type": "code",
   "execution_count": 10,
   "id": "d513dff0",
   "metadata": {},
   "outputs": [],
   "source": [
    "import numpy as npy\n",
    "import matplotlib.pyplot as plt\n",
    "import seaborn as sns\n",
    "\n",
    "size_gen = 100\n",
    "data_a = []\n",
    "data_b = []\n",
    "data_y = []\n",
    "error = []\n",
    "gradiente_m = []\n",
    "gradiente_b = []\n",
    "function=[]\n",
    "m=2\n",
    "b=1\n",
    "error_promedio=0\n",
    "gb_prom=0\n",
    "gm_prom=0"
   ]
  },
  {
   "cell_type": "code",
   "execution_count": 11,
   "id": "0bd94393",
   "metadata": {},
   "outputs": [],
   "source": [
    "def generar_listado_a():\n",
    "    return list(npy.random.randint(low = 25,high=500,size=size_gen))\n",
    "\n",
    "def generar_listado_b():\n",
    "    #return list(npy.random.poisson(52, size_gen))\n",
    "    return npy.random.uniform(2.1, 60.5, size_gen)\n",
    "\n",
    "\n",
    "def generar_listado_y_hat(data_a):\n",
    "    for n in data_a:     \n",
    "        data_y.append(n*m+b)              \n",
    "    return data_y\n",
    "     \n",
    "def generar_listado_error(data_b,data_y):\n",
    "    for n in range(size_gen):         \n",
    "        error.append(((data_y[n]-data_b[n])**2)/2)            \n",
    "    return error\n",
    "\n",
    "\n",
    "def generar_listado_gradiente_m(data_a,data_b,data_y):\n",
    "    for n in range(size_gen):         \n",
    "        gradiente_m.append((data_y[n]-data_b[n])*data_a[n])            \n",
    "    return gradiente_m\n",
    "\n",
    "def generar_listado_gradiente_b(data_b,data_y):\n",
    "    for n in range(size_gen):         \n",
    "        gradiente_b.append((data_y[n]-data_b[n]))            \n",
    "    return gradiente_b    "
   ]
  },
  {
   "cell_type": "code",
   "execution_count": 12,
   "id": "02378685",
   "metadata": {},
   "outputs": [
    {
     "name": "stdout",
     "output_type": "stream",
     "text": [
      "484.8083873972064\n",
      "158857.56143329013\n",
      "[484.8083873972064, 159342.36982068734, 318199.93125397747, 477057.4926872676, 635915.0541205577, 794772.6155538479, 953630.176987138, 1112487.7384204282, 1271345.2998537184, 1430202.8612870085]\n"
     ]
    },
    {
     "name": "stderr",
     "output_type": "stream",
     "text": [
      "C:\\Users\\rogue\\anaconda3\\lib\\site-packages\\seaborn\\_decorators.py:36: FutureWarning: Pass the following variables as keyword args: x, y. From version 0.12, the only valid positional argument will be `data`, and passing other arguments without an explicit keyword will result in an error or misinterpretation.\n",
      "  warnings.warn(\n"
     ]
    },
    {
     "data": {
      "image/png": "[encoded data removed]",
      "text/plain": [
       "<Figure size 432x288 with 1 Axes>"
      ]
     },
     "metadata": {
      "needs_background": "light"
     },
     "output_type": "display_data"
    }
   ],
   "source": [
    "def listado():\n",
    "    \n",
    "  \n",
    "  \n",
    "  npy.save('A', npy.array(generar_listado_a()))\n",
    "  npy.save('B', npy.array(generar_listado_b()))\n",
    "  \n",
    "  data_a=npy.load('A.npy')\n",
    "  data_b=npy.load('B.npy')\n",
    "    \n",
    "  sns.scatterplot(data_a, data_b)\n",
    "\n",
    "  data_y=generar_listado_y_hat(data_a)\n",
    "  generar_listado_error(data_b,data_y) \n",
    "  error_promedio = npy.mean(error)\n",
    "  \n",
    "  gradiente_m = generar_listado_gradiente_m(data_a,data_b,data_y)\n",
    "  gradiente_b = generar_listado_gradiente_b(data_b,data_y)\n",
    "  \n",
    "  \n",
    "  gb_prom=npy.mean(gradiente_b)\n",
    "  gm_prom=npy.mean(gradiente_m)\n",
    "  print(gb_prom)\n",
    "  print(gm_prom)\n",
    "  for x in range(10): \n",
    "      x*gm_prom+gb_prom\n",
    "      function.append(x*gm_prom+gb_prom)\n",
    "      \n",
    "  #plt.plot(function)    \n",
    "  return function\n",
    "\n",
    "\n",
    "def grafica_corelacion():\n",
    "    plt.plot(function) \n",
    "  \n",
    "print(listado())\n",
    "\n",
    "\n",
    "\n",
    "\n"
   ]
  },
  {
   "cell_type": "code",
   "execution_count": 13,
   "id": "b949d312",
   "metadata": {},
   "outputs": [
    {
     "data": {
      "text/plain": [
       "[<matplotlib.lines.Line2D at 0x263923241f0>]"
      ]
     },
     "execution_count": 13,
     "metadata": {},
     "output_type": "execute_result"
    },
    {
     "data": {
      "image/png": "[encoded data removed]",
      "text/plain": [
       "<Figure size 432x288 with 1 Axes>"
      ]
     },
     "metadata": {
      "needs_background": "light"
     },
     "output_type": "display_data"
    }
   ],
   "source": [
    " plt.plot(function)"
   ]
  },
  {
   "cell_type": "code",
   "execution_count": null,
   "id": "5a5e2a7a",
   "metadata": {},
   "outputs": [],
   "source": []
  }
 ],
 "metadata": {
  "kernelspec": {
   "display_name": "Python 3 (ipykernel)",
   "language": "python",
   "name": "python3"
  },
  "language_info": {
   "codemirror_mode": {
    "name": "ipython",
    "version": 3
   },
   "file_extension": ".py",
   "mimetype": "text/x-python",
   "name": "python",
   "nbconvert_exporter": "python",
   "pygments_lexer": "ipython3",
   "version": "3.9.7"
  }
 },
 "nbformat": 4,
 "nbformat_minor": 5
}
